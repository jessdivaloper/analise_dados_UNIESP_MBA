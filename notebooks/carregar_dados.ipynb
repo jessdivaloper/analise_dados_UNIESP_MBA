{
 "cells": [
  {
   "cell_type": "code",
   "execution_count": null,
   "metadata": {},
   "outputs": [
    {
     "name": "stdout",
     "output_type": "stream",
     "text": [
      "Requirement already satisfied: psycopg2-binary in c:\\users\\jessi\\appdata\\local\\packages\\pythonsoftwarefoundation.python.3.11_qbz5n2kfra8p0\\localcache\\local-packages\\python311\\site-packages (2.9.10)\n",
      "Requirement already satisfied: sqlalchemy in c:\\users\\jessi\\appdata\\local\\packages\\pythonsoftwarefoundation.python.3.11_qbz5n2kfra8p0\\localcache\\local-packages\\python311\\site-packages (1.4.54)\n",
      "Requirement already satisfied: greenlet!=0.4.17 in c:\\users\\jessi\\appdata\\local\\packages\\pythonsoftwarefoundation.python.3.11_qbz5n2kfra8p0\\localcache\\local-packages\\python311\\site-packages (from sqlalchemy) (3.1.1)\n"
     ]
    },
    {
     "name": "stderr",
     "output_type": "stream",
     "text": [
      "\n",
      "[notice] A new release of pip is available: 24.0 -> 25.0.1\n",
      "[notice] To update, run: C:\\Users\\jessi\\AppData\\Local\\Microsoft\\WindowsApps\\PythonSoftwareFoundation.Python.3.11_qbz5n2kfra8p0\\python.exe -m pip install --upgrade pip\n"
     ]
    }
   ],
   "source": [
    "# !pip install psycopg2-binary sqlalchemy\n",
    "# !pip install psycopg2"
   ]
  },
  {
   "cell_type": "code",
   "execution_count": 1,
   "metadata": {},
   "outputs": [],
   "source": [
    "from sqlalchemy import create_engine\n",
    "import psycopg2\n",
    "import pandas as pd"
   ]
  },
  {
   "cell_type": "code",
   "execution_count": null,
   "metadata": {},
   "outputs": [],
   "source": [
    "# Converter a conexão para SQLAlchemy\n",
    "# engine = create_engine('postgresql+psycopg2://', creator=lambda: conn)"
   ]
  },
  {
   "cell_type": "code",
   "execution_count": 2,
   "metadata": {},
   "outputs": [],
   "source": [
    "df = pd.read_csv(\"acidentes_transito.csv\", delimiter=\",\", encoding=\"utf-8\")"
   ]
  },
  {
   "cell_type": "code",
   "execution_count": 3,
   "metadata": {},
   "outputs": [],
   "source": [
    "# Conectar ao PostgreSQL\n",
    "conn = psycopg2.connect(\n",
    "    dbname=\"airflow_db_teste\",\n",
    "    user=\"postgres\",\n",
    "    password=\"postgres\",\n",
    "    host=\"localhost\",\n",
    "    port=\"5432\"\n",
    ")\n",
    "cursor = conn.cursor()\n",
    "\n",
    "# Inserir dados na tabela\n",
    "for _, row in df.iterrows():\n",
    "    cursor.execute(\n",
    "        \"\"\"\n",
    "        INSERT INTO raw.acidentes (\n",
    "            data_inversa,\n",
    "            dia_semana,\n",
    "            horario,\n",
    "            uf,\n",
    "            br,\n",
    "            km,\n",
    "            municipio,\n",
    "            causa_acidente,\n",
    "            tipo_acidente,\n",
    "            classificacao_acidente,\n",
    "            fase_dia,\n",
    "            sentido_via,\n",
    "            condicao_metereologica,\n",
    "            tipo_pista,\n",
    "            tracado_via,\n",
    "            pessoas,\n",
    "            mortos,\n",
    "            feridos_leves,\n",
    "            feridos_graves,\n",
    "            ilesos,\n",
    "            ignorados,\n",
    "            feridos,\n",
    "            veiculos,\n",
    "            latitude,\n",
    "            longitude,\n",
    "            regional,\n",
    "            delegacia\n",
    "            ) VALUES (%s, %s, %s, %s, %s, %s, %s, %s, %s, %s, %s, %s, %s, %s, %s, %s, %s, %s, %s, %s, %s, %s, %s, %s, %s, %s, %s)\n",
    "                \"\"\",\n",
    "            (\n",
    "                row[\"data_inversa\"],\n",
    "                row[\"dia_semana\"],\n",
    "                row[\"horario\"],\n",
    "                row[\"uf\"],\n",
    "                row[\"br\"],\n",
    "                row[\"km\"],\n",
    "                row[\"municipio\"],\n",
    "                row[\"causa_acidente\"],\n",
    "                row[\"tipo_acidente\"],\n",
    "                row[\"classificacao_acidente\"],\n",
    "                row[\"fase_dia\"],\n",
    "                row[\"sentido_via\"],\n",
    "                row[\"condicao_metereologica\"],\n",
    "                row[\"tipo_pista\"],\n",
    "                row[\"tracado_via\"],\n",
    "                row[\"pessoas\"],\n",
    "                row[\"mortos\"],\n",
    "                row[\"feridos_leves\"],\n",
    "                row[\"feridos_graves\"],\n",
    "                row[\"ilesos\"],\n",
    "                row[\"ignorados\"],\n",
    "                row[\"feridos\"],\n",
    "                row[\"veiculos\"],\n",
    "                row[\"latitude\"],\n",
    "                row[\"longitude\"],\n",
    "                row[\"regional\"],\n",
    "                row[\"delegacia\"]\n",
    "            )\n",
    "        )\n",
    "\n",
    "# Commit e fechamento\n",
    "conn.commit()\n",
    "cursor.close()\n",
    "conn.close()\n"
   ]
  }
 ],
 "metadata": {
  "kernelspec": {
   "display_name": "Python 3",
   "language": "python",
   "name": "python3"
  },
  "language_info": {
   "codemirror_mode": {
    "name": "ipython",
    "version": 3
   },
   "file_extension": ".py",
   "mimetype": "text/x-python",
   "name": "python",
   "nbconvert_exporter": "python",
   "pygments_lexer": "ipython3",
   "version": "3.11.9"
  }
 },
 "nbformat": 4,
 "nbformat_minor": 2
}
